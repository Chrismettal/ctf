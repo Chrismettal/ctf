{
 "cells": [
  {
   "cell_type": "markdown",
   "metadata": {},
   "source": [
    "### CTF ShittyAddon\n",
    "\n",
    "To be run on a Raspberry Pi, which talks to the SAO via `I2C`\n",
    "\n",
    "#### General\n",
    "\n",
    "- Flag is kept in flash, not in SRAM\n",
    "\n",
    "#### Understanding what the DUTs firmware does\n",
    "\n",
    "- `setup()`\n",
    "    - Sets up own address to be `0x23`\n",
    "    - Hooks up I2C interrupts\n",
    "    - XORs `flash_value` (Initially `0x20`) with each char in the flag individually\n",
    "- `loop()`\n",
    "    - `erase` gets HIGH when `flash_addr` has `0x8000` set\n",
    "    - `flash_addr` gets ANDed with `0x1fff`\n",
    "    - Whenever `flash_addr` > `0x800`:\n",
    "        - If `erase` is HIGH:\n",
    "            - Call `boot_page_erase_safe`\n",
    "        - else\n",
    "            - Call `boot_page_fill_safe`, writing out `flash_value` to `flash_addr`\n",
    "            - Call `boot_page_write` on `flash_addr`\n",
    "    - Reset `flash_addr` to 0\n",
    "- `onI2CReceive()`\n",
    "    - Writes first byte received into `target`\n",
    "    - Uses `target` as a pointer and writes subsequently received bytes into the target location\n",
    "- `onI2CRequest()`\n",
    "    - Sends the current value of `target`\n",
    "    - Interprets `target++` as a pointer, limiting it to `0x1fff`, putting it into `addr`\n",
    "    - Seems to send a byte found at an adress, but needs to decide if it can read from pgm or directly?\n",
    "        - If `target & 0x8000`\n",
    "            - Sends a byte read from the program at adress `addr`\n",
    "        - else\n",
    "            - Sends the dereferenced value of `addr`\n",
    "\n",
    "\n",
    "##### Flag XOR thingy"
   ]
  },
  {
   "cell_type": "code",
   "execution_count": null,
   "metadata": {},
   "outputs": [],
   "source": [
    "# Starting values\n",
    "flash_value = 0x20\n",
    "flag = \"$FLAG:SECRET\"\n",
    "\n",
    "# XOR flash_value with flag like setup()\n",
    "for char in flag:\n",
    "    flash_value ^= ord(char)\n",
    "    print(char + \" = \" + str(ord(char)) + \" | flash_value --> \" + str(flash_value))\n"
   ]
  },
  {
   "cell_type": "markdown",
   "metadata": {},
   "source": [
    "##### `flash_addr` simulation\n",
    "\n",
    "The whole loop seems to be used only for the rootkit stuff. There seems to be a limiter to `flash_addr`, preventing write access above `0x1fff`, as well as methods to delete and write stuff into the boot page"
   ]
  },
  {
   "cell_type": "code",
   "execution_count": null,
   "metadata": {},
   "outputs": [],
   "source": [
    "# Declare start value\n",
    "flash_addr  = 0x400\n",
    "erase       = False\n",
    "\n",
    "print(0x1fff) # Limits flash_addr\n",
    "print(0x8000) # Sets \"erase\"\n",
    "print(0x0800) # Values above start executing stuff below\n",
    "\n",
    "# Simulate a few iterations\n",
    "for i in range (10):\n",
    "    erase = flash_addr & 0x8000\n",
    "    flash_addr &= 0x1fff\n",
    "    print(\"Erase = \" + str(erase) + \" | flash_addr = \" + hex(flash_addr))"
   ]
  },
  {
   "cell_type": "markdown",
   "metadata": {},
   "source": [
    "#### Test if we can talk to DUT"
   ]
  },
  {
   "cell_type": "code",
   "execution_count": 240,
   "metadata": {},
   "outputs": [
    {
     "name": "stdout",
     "output_type": "stream",
     "text": [
      "0x1d | 0b0\n",
      "0x1c | 0b11100\n",
      "0x1b | 0b0\n",
      "0x1a | 0b11000101\n",
      "0x19 | 0b0\n",
      "0x18 | 0b11001\n"
     ]
    }
   ],
   "source": [
    "from smbus2 import SMBus\n",
    "\n",
    "dutAdr      = 0x23          # Address of the DUT\n",
    "adrs = [0x18, 0x19, 0x1A, 0x1B, 0x1C, 0x3B]\n",
    "\n",
    "with SMBus(1) as bus:\n",
    "    \n",
    "    for adr in reversed(adrs):\n",
    "        \n",
    "        #bus.write_byte(dutAdr, adr)\n",
    "        response = bus.read_i2c_block_data(dutAdr, adr, 2)\n",
    "\n",
    "        print(hex(response[0]) + ' | ' + bin(response[1]))"
   ]
  },
  {
   "cell_type": "markdown",
   "metadata": {},
   "source": [
    "#### Attack 1 - Make LED light up"
   ]
  },
  {
   "cell_type": "code",
   "execution_count": 201,
   "metadata": {},
   "outputs": [
    {
     "name": "stdout",
     "output_type": "stream",
     "text": [
      "Reading DDRB\n",
      "DDRB Adr = 0x17\n",
      "Old DDRB = 0b11101100\n",
      "New DDRB = 0b11101110\n"
     ]
    },
    {
     "ename": "TimeoutError",
     "evalue": "[Errno 110] Connection timed out",
     "output_type": "error",
     "traceback": [
      "\u001b[0;31m---------------------------------------------------------------------------\u001b[0m",
      "\u001b[0;31mTimeoutError\u001b[0m                              Traceback (most recent call last)",
      "Cell \u001b[0;32mIn[201], line 35\u001b[0m\n\u001b[1;32m     32\u001b[0m \u001b[39m#print(hex(data[0]))\u001b[39;00m\n\u001b[1;32m     33\u001b[0m bus\u001b[39m.\u001b[39mwrite_i2c_block_data(dutAdr, \u001b[39m0\u001b[39m, data)\n\u001b[0;32m---> 35\u001b[0m stateDDRB   \u001b[39m=\u001b[39m bus\u001b[39m.\u001b[39;49mread_i2c_block_data(dutAdr, ddrAdr, \u001b[39m2\u001b[39;49m)[\u001b[39m1\u001b[39m]\n\u001b[1;32m     36\u001b[0m \u001b[39mprint\u001b[39m(\u001b[39m'\u001b[39m\u001b[39mConfirmed DDRB = \u001b[39m\u001b[39m'\u001b[39m \u001b[39m+\u001b[39m \u001b[39mbin\u001b[39m(stateDDRB))\n",
      "File \u001b[0;32m~/.local/lib/python3.9/site-packages/smbus2/smbus2.py:617\u001b[0m, in \u001b[0;36mSMBus.read_i2c_block_data\u001b[0;34m(self, i2c_addr, register, length, force)\u001b[0m\n\u001b[1;32m    613\u001b[0m msg \u001b[39m=\u001b[39m i2c_smbus_ioctl_data\u001b[39m.\u001b[39mcreate(\n\u001b[1;32m    614\u001b[0m     read_write\u001b[39m=\u001b[39mI2C_SMBUS_READ, command\u001b[39m=\u001b[39mregister, size\u001b[39m=\u001b[39mI2C_SMBUS_I2C_BLOCK_DATA\n\u001b[1;32m    615\u001b[0m )\n\u001b[1;32m    616\u001b[0m msg\u001b[39m.\u001b[39mdata\u001b[39m.\u001b[39mcontents\u001b[39m.\u001b[39mbyte \u001b[39m=\u001b[39m length\n\u001b[0;32m--> 617\u001b[0m ioctl(\u001b[39mself\u001b[39;49m\u001b[39m.\u001b[39;49mfd, I2C_SMBUS, msg)\n\u001b[1;32m    618\u001b[0m \u001b[39mreturn\u001b[39;00m msg\u001b[39m.\u001b[39mdata\u001b[39m.\u001b[39mcontents\u001b[39m.\u001b[39mblock[\u001b[39m1\u001b[39m:length \u001b[39m+\u001b[39m \u001b[39m1\u001b[39m]\n",
      "\u001b[0;31mTimeoutError\u001b[0m: [Errno 110] Connection timed out"
     ]
    }
   ],
   "source": [
    "import smbus2\n",
    "\n",
    "channel     = 1             # Used I2C channel\n",
    "dutAdr      = 0x23          # Address of the DUT\n",
    "portAdr     = 0x18          # Address of PORTB, where the LED is connected to\n",
    "ddrAdr      = 0x17          # Address of DDRB, to set the LED pin as an output\n",
    "ledBit      = 0b00000010    # Bit in PORTB where the LED is connected to\n",
    "\n",
    "# Init I2C\n",
    "bus = smbus2.SMBus(channel) \n",
    "\n",
    "###############\n",
    "# Update DDRB\n",
    "###############\n",
    "print('Reading DDRB')\n",
    "\n",
    "# Write target address into DUT\n",
    "#bus.write_byte(dutAdr, ddrAdr)\n",
    "\n",
    "# Read byte at target location from DUT\n",
    "stateDDRB   = bus.read_i2c_block_data(dutAdr, ddrAdr, 2)\n",
    "print('DDRB Adr = '   + hex(stateDDRB[0]))\n",
    "print('Old DDRB = ' + bin(stateDDRB[1]))\n",
    "\n",
    "# Set LED pin to output\n",
    "stateDDRB[1] |= ledBit\n",
    "\n",
    "print('New DDRB = ' + bin(stateDDRB[1]))\n",
    "\n",
    "# Write DDRB back into DUT\n",
    "data = [ddrAdr, stateDDRB[1]]\n",
    "#print(hex(data[0]))\n",
    "bus.write_i2c_block_data(dutAdr, 0, data)\n",
    "\n",
    "stateDDRB   = bus.read_i2c_block_data(dutAdr, ddrAdr, 2)[1]\n",
    "print('Confirmed DDRB = ' + bin(stateDDRB))"
   ]
  }
 ],
 "metadata": {
  "kernelspec": {
   "display_name": "Python 3",
   "language": "python",
   "name": "python3"
  },
  "language_info": {
   "codemirror_mode": {
    "name": "ipython",
    "version": 3
   },
   "file_extension": ".py",
   "mimetype": "text/x-python",
   "name": "python",
   "nbconvert_exporter": "python",
   "pygments_lexer": "ipython3",
   "version": "3.9.2"
  },
  "orig_nbformat": 4
 },
 "nbformat": 4,
 "nbformat_minor": 2
}
